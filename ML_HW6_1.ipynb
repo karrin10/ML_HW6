{
  "nbformat": 4,
  "nbformat_minor": 0,
  "metadata": {
    "colab": {
      "provenance": [],
      "authorship_tag": "ABX9TyPbnaIVbH01pCtQLltyjLCp",
      "include_colab_link": true
    },
    "kernelspec": {
      "name": "python3",
      "display_name": "Python 3"
    },
    "language_info": {
      "name": "python"
    }
  },
  "cells": [
    {
      "cell_type": "markdown",
      "metadata": {
        "id": "view-in-github",
        "colab_type": "text"
      },
      "source": [
        "<a href=\"https://colab.research.google.com/github/karrin10/ML_HW6/blob/main/ML_HW6_1.ipynb\" target=\"_parent\"><img src=\"https://colab.research.google.com/assets/colab-badge.svg\" alt=\"Open In Colab\"/></a>"
      ]
    },
    {
      "cell_type": "markdown",
      "source": [
        "Kathleen Arrington\n",
        "> Homework 6 - Problem 1\n",
        "\n",
        "> December 1, 2023"
      ],
      "metadata": {
        "id": "MrCNELgdQBL-"
      }
    },
    {
      "cell_type": "code",
      "execution_count": 1,
      "metadata": {
        "id": "hgGymzxXDFhc"
      },
      "outputs": [],
      "source": [
        "import torch\n",
        "import torch.nn as nn\n",
        "import torch.optim as optim\n",
        "from torch.utils.data import DataLoader, TensorDataset\n",
        "from sklearn.model_selection import train_test_split\n",
        "from sklearn.preprocessing import StandardScaler\n",
        "import pandas as pd\n",
        "import numpy as np"
      ]
    },
    {
      "cell_type": "code",
      "source": [
        "# Problem 1A - - - - - - - - - - - - - - - - - - - - - - - - - - - - - - - - - -\n",
        "# Get data  from gitHub account\n",
        "housing_url = 'https://raw.githubusercontent.com/karrin10/ML_HW6/main/Housing%20(1).csv'\n",
        "data = pd.read_csv(housing_url)\n",
        "\n",
        "# Mapping string variables to binary values\n",
        "variable_list = ['mainroad', 'guestroom', 'basement', 'hotwaterheating', 'airconditioning', 'prefarea']\n",
        "\n",
        "def binary_mapping(x):\n",
        "  return x.map({'no' : 0, 'yes' : 1})\n",
        "\n",
        "data[variable_list] = data[variable_list].apply(binary_mapping)\n",
        "data = data.drop('furnishingstatus', axis=1)\n",
        "\n",
        "y = data['price'].values\n",
        "data = data.drop('price', axis=1)\n",
        "x = data.values\n",
        "\n",
        "x_train, x_val, y_train, y_val = train_test_split(x, y, test_size=0.8, random_state=42)\n",
        "\n",
        "# Standardize input features\n",
        "scaler = StandardScaler()\n",
        "x_train = scaler.fit_transform(x_train)\n",
        "x_val = scaler.transform(x_val)\n",
        "\n",
        "# Standardize output features\n",
        "scaler_y = StandardScaler()\n",
        "y_train_scaled = scaler_y.fit_transform(y_train.reshape(-1, 1)).flatten()\n",
        "y_val_scaled = scaler_y.fit_transform(y_val.reshape(-1, 1)).flatten()\n",
        "\n",
        "# Convert data to PyTorch tensors\n",
        "x_train_tensor = torch.tensor(x_train, dtype=torch.float32)\n",
        "y_train_tensor = torch.tensor(y_train_scaled, dtype=torch.float32)\n",
        "x_val_tensor = torch.tensor(x_val, dtype=torch.float32)\n",
        "y_val_tensor = torch.tensor(y_val_scaled, dtype=torch.float32)\n",
        "\n",
        "# Create DataLoader for training and validation sets\n",
        "train_dataset = TensorDataset(x_train_tensor, y_train_tensor)\n",
        "train_loader = DataLoader(train_dataset, batch_size=32, shuffle=True)\n",
        "\n",
        "val_dataset = TensorDataset(x_val_tensor, y_val_tensor)\n",
        "val_loader = DataLoader(val_dataset, batch_size=32)\n",
        "\n",
        "# Def model\n",
        "model = nn.Sequential(\n",
        "    nn.Linear(x_train.shape[1], 32),\n",
        "    nn.Tanh(),\n",
        "    nn.Linear(32, 1)\n",
        ")\n",
        "\n",
        "# Def loss function and optimizer\n",
        "criterion = nn.MSELoss()\n",
        "optimizer = optim.SGD(model.parameters(), lr=0.001)\n",
        "\n",
        "# Training loop\n",
        "epochs = 5000\n",
        "for epoch in range(epochs+1):\n",
        "    model.train()\n",
        "    for inputs, targets in train_loader:\n",
        "        optimizer.zero_grad()\n",
        "        outputs = model(inputs)\n",
        "        loss = criterion(outputs.squeeze(), targets)\n",
        "        loss.backward()\n",
        "        optimizer.step()\n",
        "\n",
        "    model.eval()\n",
        "    with torch.no_grad():\n",
        "        val_outputs = model(x_val_tensor)\n",
        "        val_loss = criterion(val_outputs.squeeze(), y_val_tensor)\n",
        "        if epoch % 500 == 0:\n",
        "          print(f'Epoch {epoch}/{epochs}, Training Loss: {loss.item()}, Validation Loss: {val_loss.item()}')"
      ],
      "metadata": {
        "colab": {
          "base_uri": "https://localhost:8080/"
        },
        "id": "MQwV1v7mG_Ct",
        "outputId": "bd3d033d-03f5-48b2-f1b8-95fae1e3870d"
      },
      "execution_count": 2,
      "outputs": [
        {
          "output_type": "stream",
          "name": "stdout",
          "text": [
            "Epoch 0/5000, Training Loss: 0.954742431640625, Validation Loss: 0.9822786450386047\n",
            "Epoch 500/5000, Training Loss: 0.32941150665283203, Validation Loss: 0.453037291765213\n",
            "Epoch 1000/5000, Training Loss: 0.4963744580745697, Validation Loss: 0.472501665353775\n",
            "Epoch 1500/5000, Training Loss: 0.1326870322227478, Validation Loss: 0.4676487147808075\n",
            "Epoch 2000/5000, Training Loss: 0.13711971044540405, Validation Loss: 0.4634351134300232\n",
            "Epoch 2500/5000, Training Loss: 0.22178660333156586, Validation Loss: 0.45957106351852417\n",
            "Epoch 3000/5000, Training Loss: 0.25255832076072693, Validation Loss: 0.4536830186843872\n",
            "Epoch 3500/5000, Training Loss: 0.15695816278457642, Validation Loss: 0.4502471387386322\n",
            "Epoch 4000/5000, Training Loss: 0.19330140948295593, Validation Loss: 0.4486156702041626\n",
            "Epoch 4500/5000, Training Loss: 0.17431068420410156, Validation Loss: 0.44820430874824524\n",
            "Epoch 5000/5000, Training Loss: 0.08746079355478287, Validation Loss: 0.4481567144393921\n"
          ]
        }
      ]
    },
    {
      "cell_type": "code",
      "source": [
        "# Problem 1B - - - - - - - - - - - - - - - - - - - - - - - - - - - - - - - - - -\n",
        "# Get data  from gitHub account\n",
        "data = pd.read_csv(housing_url)\n",
        "\n",
        "# Mapping string variables to binary values\n",
        "variable_list = ['mainroad', 'guestroom', 'basement', 'hotwaterheating', 'airconditioning', 'prefarea']\n",
        "\n",
        "def binary_mapping(x):\n",
        "    return x.map({'no': 0, 'yes': 1})\n",
        "\n",
        "data[variable_list] = data[variable_list].apply(binary_mapping)\n",
        "data = data.drop('furnishingstatus', axis=1)\n",
        "\n",
        "y = data['price'].values\n",
        "data = data.drop('price', axis=1)\n",
        "x = data.values\n",
        "\n",
        "x_train, x_val, y_train, y_val = train_test_split(x, y, test_size=0.8, random_state=42)\n",
        "\n",
        "# Standardize input features\n",
        "scaler = StandardScaler()\n",
        "x_train = scaler.fit_transform(x_train)\n",
        "x_val = scaler.transform(x_val)\n",
        "\n",
        "# Standardize output features\n",
        "scaler_y = StandardScaler()\n",
        "y_train_scaled = scaler_y.fit_transform(y_train.reshape(-1, 1)).flatten()\n",
        "y_val_scaled = scaler_y.fit_transform(y_val.reshape(-1, 1)).flatten()\n",
        "\n",
        "# Convert data to PyTorch tensors\n",
        "x_train_tensor = torch.tensor(x_train, dtype=torch.float32)\n",
        "y_train_tensor = torch.tensor(y_train_scaled, dtype=torch.float32)\n",
        "x_val_tensor = torch.tensor(x_val, dtype=torch.float32)\n",
        "y_val_tensor = torch.tensor(y_val_scaled, dtype=torch.float32)\n",
        "\n",
        "# Create DataLoader for training and validation sets\n",
        "train_dataset = TensorDataset(x_train_tensor, y_train_tensor)\n",
        "train_loader = DataLoader(train_dataset, batch_size=32, shuffle=True)\n",
        "\n",
        "val_dataset = TensorDataset(x_val_tensor, y_val_tensor)\n",
        "val_loader = DataLoader(val_dataset, batch_size=32)\n",
        "\n",
        "# Def the model with the first hidden layer having 32 neurons\n",
        "model = nn.Sequential(\n",
        "    nn.Linear(x_train.shape[1], 32),  # First: 32 neurons\n",
        "    nn.Tanh(),\n",
        "    nn.Linear(32, 64),  # Second: 64 neurons\n",
        "    nn.Tanh(),\n",
        "    nn.Linear(64, 16),  # Third: 16 neurons\n",
        "    nn.Tanh(),\n",
        "    nn.Linear(16, 1)  # Outer: 1 neuron\n",
        ")\n",
        "\n",
        "# Def loss function and optimizer\n",
        "criterion = nn.MSELoss()\n",
        "optimizer = optim.SGD(model.parameters(), lr=0.001)\n",
        "\n",
        "# Training loop\n",
        "epochs = 5000\n",
        "for epoch in range(epochs + 1):\n",
        "    model.train()\n",
        "    for inputs, targets in train_loader:\n",
        "        optimizer.zero_grad()\n",
        "        outputs = model(inputs)\n",
        "        loss = criterion(outputs.squeeze(), targets)\n",
        "        loss.backward()\n",
        "        optimizer.step()\n",
        "\n",
        "    model.eval()\n",
        "    with torch.no_grad():\n",
        "        val_outputs = model(x_val_tensor)\n",
        "        val_loss = criterion(val_outputs.squeeze(), y_val_tensor)\n",
        "        if epoch % 500 == 0:\n",
        "            print(f'Epoch {epoch}/{epochs}, Training Loss: {loss.item()}, Validation Loss: {val_loss.item()}')"
      ],
      "metadata": {
        "colab": {
          "base_uri": "https://localhost:8080/"
        },
        "id": "QHhK4A1FNkQ2",
        "outputId": "d2d31e46-ec50-4c8d-8a4b-fac1563d3856"
      },
      "execution_count": 3,
      "outputs": [
        {
          "output_type": "stream",
          "name": "stdout",
          "text": [
            "Epoch 0/5000, Training Loss: 0.5062791109085083, Validation Loss: 1.0407428741455078\n",
            "Epoch 500/5000, Training Loss: 0.4870462417602539, Validation Loss: 0.4808199107646942\n",
            "Epoch 1000/5000, Training Loss: 0.5406584143638611, Validation Loss: 0.4985005855560303\n",
            "Epoch 1500/5000, Training Loss: 0.5278077721595764, Validation Loss: 0.4993152916431427\n",
            "Epoch 2000/5000, Training Loss: 0.3181730806827545, Validation Loss: 0.49504324793815613\n",
            "Epoch 2500/5000, Training Loss: 0.13171139359474182, Validation Loss: 0.4871755540370941\n",
            "Epoch 3000/5000, Training Loss: 0.08719564974308014, Validation Loss: 0.48246219754219055\n",
            "Epoch 3500/5000, Training Loss: 0.30937403440475464, Validation Loss: 0.48251375555992126\n",
            "Epoch 4000/5000, Training Loss: 0.06878376752138138, Validation Loss: 0.4925753176212311\n",
            "Epoch 4500/5000, Training Loss: 0.03744902461767197, Validation Loss: 0.5050755739212036\n",
            "Epoch 5000/5000, Training Loss: 0.06389439105987549, Validation Loss: 0.5218943357467651\n"
          ]
        }
      ]
    },
    {
      "cell_type": "code",
      "source": [
        "# Problem 2A - - - - - - - - - - - - - - - - - - - - - - - - - - - - - - - - - -\n"
      ],
      "metadata": {
        "id": "maFfNdzQP3Mc"
      },
      "execution_count": null,
      "outputs": []
    }
  ]
}